{
 "cells": [
  {
   "cell_type": "markdown",
   "metadata": {},
   "source": [
    "### 跳格子解法 \n",
    "\n",
    "    1 当遍历到index遇到1时，说明这个位置有花，那必然从index+2的位置才有可能种花，因此当碰到1时直接跳过下一格\n",
    "    2 当遍历到index遇到0时，由于每次碰到1都是跳两格，因此前一格必定是0，此时只需要判断下一格是不是1即可得出index这一格能不能种花，\n",
    "    如果能种则令n减一，然后这个位置就按照遇到1时处理，即跳两格；如果index的后一格是1，说明这个位置不能种花且之后两格也不可能种花（参照 1），直接跳过3格。\n",
    "\n",
    "    当n减为0时，说明可以种入n朵花，则可以直接退出遍历返回true；如果遍历结束n没有减到0，说明最多种入的花的数量小于n，则返回false。"
   ]
  },
  {
   "cell_type": "code",
   "execution_count": 1,
   "metadata": {},
   "outputs": [],
   "source": [
    "class Solution:\n",
    "    def canPlaceFlowers(self, flowerbed: list[int], n: int) -> bool:\n",
    "        i = 0\n",
    "        while i < len(flowerbed) and n > 0:\n",
    "            # 1 0 x ,跳到x处\n",
    "            if flowerbed[i] == 1:\n",
    "                i+=2\n",
    "            # 0 0 x，种一个然后调到x处\n",
    "            elif (i == len(flowerbed) - 1) or (flowerbed[i+1] == 0):\n",
    "                n-=1\n",
    "                i+=2\n",
    "            # 0 1 x或 1 1 x ,这种情况，直接得跳到x后面，x必然不能种\n",
    "            else:\n",
    "                i+=3\n",
    "        return n <= 0\n"
   ]
  },
  {
   "cell_type": "code",
   "execution_count": 2,
   "metadata": {},
   "outputs": [
    {
     "data": {
      "text/plain": [
       "[24, 12, 8, 6]"
      ]
     },
     "execution_count": 2,
     "metadata": {},
     "output_type": "execute_result"
    }
   ],
   "source": [
    "class Solution:\n",
    "    def productExceptSelf(self, nums: list[int]) -> list[int]:\n",
    "        temp = [0]*len(nums)\n",
    "        left, right = 1, 1\n",
    "     \n",
    "        for i in range(0, len(nums)):\n",
    "            temp[i] = left\n",
    "            left *= nums[i]\n",
    "        for i in range(len(nums)-1, -1, -1):\n",
    "            temp[i] *= right\n",
    "            right *= nums[i]\n",
    "        return temp\n",
    "\n",
    "nums = [1,2,3,4]\n",
    "s = Solution().productExceptSelf(nums)\n",
    "s"
   ]
  },
  {
   "cell_type": "code",
   "execution_count": 3,
   "metadata": {},
   "outputs": [
    {
     "data": {
      "text/plain": [
       "True"
      ]
     },
     "execution_count": 3,
     "metadata": {},
     "output_type": "execute_result"
    }
   ],
   "source": [
    "class Solution:\n",
    "    def increasingTriplet(self, nums: list[int]) -> bool:\n",
    "        if len(nums) < 3:\n",
    "            return False\n",
    "        for i in range(0, len(nums)-2):\n",
    "            if (nums[i] < nums[i+1]) and (nums[i+1] < nums[i+2]):\n",
    "                return True\n",
    "        return False\n",
    "    \n",
    "s = Solution().increasingTriplet([1,2,3,4,5])\n",
    "s"
   ]
  },
  {
   "cell_type": "markdown",
   "metadata": {},
   "source": [
    "## 压缩字符串\n",
    "\n",
    "### 思路\n",
    "    \n",
    "    为了实现原地压缩，我们可以使用双指针分别标志我们在字符串中读和写的位置。\n",
    "    每次当读指针 read 移动到某一段连续相同子串的最右侧，我们就在写指针 write 处依次写入该子串对应的字符和子串长度即可。"
   ]
  },
  {
   "cell_type": "code",
   "execution_count": 4,
   "metadata": {},
   "outputs": [],
   "source": [
    "class Solution:\n",
    "    def compress(self, chars: list[str]) -> int:\n",
    "        def reverse(left: int, right: int) -> None:\n",
    "            while left < right:\n",
    "                chars[left], chars[right] = chars[right], chars[left]\n",
    "                left += 1\n",
    "                right -= 1\n",
    "\n",
    "        n = len(chars)\n",
    "        w = left = 0\n",
    "        for r in range(n):\n",
    "            if r == n-1 or chars[r] != chars[r+1]:\n",
    "                chars[w] = chars[r]\n",
    "                w+=1\n",
    "                num = r - left + 1\n",
    "                if num > 1:\n",
    "                    anchor = w\n",
    "                    while num > 0:\n",
    "                        chars[w] = str(num % 10)\n",
    "                        w+=1\n",
    "                        num //=10\n",
    "                    reverse(anchor, w-1)\n",
    "                left = r + 1\n",
    "        return w"
   ]
  },
  {
   "cell_type": "markdown",
   "metadata": {},
   "source": [
    "### 滑动窗口"
   ]
  },
  {
   "cell_type": "code",
   "execution_count": null,
   "metadata": {},
   "outputs": [],
   "source": [
    "# def findSubArray(nums):\n",
    "#     N = len(nums) # 数组/字符串长度\n",
    "#     left, right = 0, 0 # 双指针，表示当前遍历的区间[left, right]，闭区间\n",
    "#     sums = 0 # 用于统计 子数组/子区间 是否有效，根据题目可能会改成求和/计数\n",
    "#     res = 0 # 保存最大的满足题目要求的 子数组/子串 长度\n",
    "#     while right < N: # 当右边的指针没有搜索到 数组/字符串 的结尾\n",
    "#         sums += nums[right] # 增加当前右边指针的数字/字符的求和/计数\n",
    "#         while 区间[left, right]不符合题意: # 此时需要一直移动左指针，直至找到一个符合题意的区间\n",
    "#             sums -= nums[left] # 移动左指针前需要从counter中减少left位置字符的求和/计数\n",
    "#             left += 1 # 真正的移动左指针，注意不能跟上面一行代码写反\n",
    "#         # 到 while 结束时，我们找到了一个符合题意要求的 子数组/子串\n",
    "#         res = max(res, right - left + 1) # 需要更新结果\n",
    "#         right += 1 # 移动右指针，去探索新的区间\n",
    "#     return res"
   ]
  },
  {
   "cell_type": "markdown",
   "metadata": {},
   "source": [
    "## 649. Dota2 参议院"
   ]
  },
  {
   "cell_type": "code",
   "execution_count": null,
   "metadata": {},
   "outputs": [],
   "source": [
    "import collections\n",
    "class Solution:\n",
    "    def predictPartyVictory(self, senate: str) -> str:\n",
    "        n = len(senate)\n",
    "        R = collections.deque()\n",
    "        D = collections.deque()\n",
    "        for i, s in enumerate(senate):\n",
    "            if s == 'R':\n",
    "                R.append(i)\n",
    "            else:\n",
    "                D.append(i)\n",
    "        while R and D:\n",
    "            if R[0] < D[0]:\n",
    "                R.append(R[0]+n)\n",
    "            else:\n",
    "                D.append(D[0]+n)\n",
    "            r = R.popleft()\n",
    "            d = D.popleft()\n",
    "        return \"Radiant\" if R else \"Dire\"\n"
   ]
  },
  {
   "cell_type": "code",
   "execution_count": null,
   "metadata": {},
   "outputs": [],
   "source": [
    "# arr = [1, 2, 3, 4, 5]\n",
    "# n, index = len(arr), 0\n",
    "# while True:\n",
    "#     # 在环形数组中转圈\n",
    "#     print(arr[index % n])\n",
    "#     index += 1"
   ]
  },
  {
   "cell_type": "code",
   "execution_count": 2,
   "metadata": {},
   "outputs": [],
   "source": [
    "class TreeNode:\n",
    "    def __init__(self, val: int):\n",
    "        self.val = val\n",
    "        self.left = None\n",
    "        self.right = None\n",
    "\n",
    "n1 = TreeNode(1)\n",
    "n2 = TreeNode(2)\n",
    "n3 = TreeNode(3)\n",
    "n4 = TreeNode(4)\n",
    "n5 = TreeNode(5)\n",
    "n6 = TreeNode(6)\n",
    "\n",
    "n1.left = n2\n",
    "n1.right = n3\n",
    "n2.left = n4\n",
    "n2.right = n5\n",
    "n3.right = n6\n",
    "\n",
    "# print(n1.left.val)\n",
    "p = TreeNode(0)\n",
    "\n",
    "\n",
    "# n1.left = p\n",
    "# p.left = n2\n",
    "\n",
    "# print(n1.left.val)\n",
    "\n",
    "# n1.left = n2\n",
    "# print(n1.left.val)"
   ]
  },
  {
   "cell_type": "code",
   "execution_count": 13,
   "metadata": {},
   "outputs": [
    {
     "name": "stdout",
     "output_type": "stream",
     "text": [
      "[1, 2, 3, 4, 5, 6]\n"
     ]
    }
   ],
   "source": [
    "# 广度优先遍历通常借助“队列”来实现。队列遵循“先进先出”的规则,而广度优先遍历则遵循“逐层推进” 的规则,两者背后的思想是一致的。\n",
    "\n",
    "def level_order(root):\n",
    "    if root is None:\n",
    "        return []\n",
    "    queue = [root]\n",
    "    res = []\n",
    "    while queue:\n",
    "        node = queue.pop(0)\n",
    "        res.append(node.val)\n",
    "        if node.left:\n",
    "            queue.append(node.left)\n",
    "        if node.right:\n",
    "            queue.append(node.right)\n",
    "    return res\n",
    "\n",
    "print(level_order(n1))"
   ]
  },
  {
   "cell_type": "code",
   "execution_count": null,
   "metadata": {},
   "outputs": [],
   "source": [
    "def dfs(root: TreeNode):\n",
    "    if root is None:\n",
    "        return\n",
    "    print(root.val)\n",
    "    dfs(root.left)\n",
    "    dfs(root.right)\n",
    "\n",
    "print(dfs(n1))\n",
    "# 前 中 后序遍历\n",
    "# 前序遍历 pre_order  根 左 右\n",
    "# 中序遍历 in_order   左 根 右\n",
    "# 后序遍历 post_order 左 右 根"
   ]
  },
  {
   "cell_type": "code",
   "execution_count": null,
   "metadata": {},
   "outputs": [],
   "source": [
    "def levelOrder(root) -> list[int]:\n",
    "    if not root:\n",
    "        return []\n",
    "    queue = [root]\n",
    "    res = []\n",
    "    while queue:\n",
    "        res.append([node.val for node in queue])\n",
    "        print(res)\n",
    "        # print(queue.pop())\n",
    "        ll = []\n",
    "        for node in queue:\n",
    "            if node.left:\n",
    "                ll.append(node.left)\n",
    "            if node.right:\n",
    "                ll.append(node.right)\n",
    "        queue = ll\n",
    "    return res\n",
    "    # return res[::-1]\n",
    "\n",
    "print(levelOrder(n1))\n",
    "            "
   ]
  },
  {
   "cell_type": "code",
   "execution_count": 16,
   "metadata": {},
   "outputs": [
    {
     "name": "stdout",
     "output_type": "stream",
     "text": [
      "[1, 3, 6]\n"
     ]
    }
   ],
   "source": [
    "def rightSideView(root) ->list[int]:\n",
    "    if not root: return []\n",
    "    queue = [root]\n",
    "    res = []\n",
    "    while queue:\n",
    "        # res.append([node.val for node in queue][-1])\n",
    "        res.append((queue[-1]).val)\n",
    "\n",
    "        ll = []\n",
    "        for node in queue:\n",
    "            if node.left:\n",
    "                ll.append(node.left)\n",
    "            if node.right:\n",
    "                ll.append(node.right)\n",
    "        queue = ll\n",
    "    return res\n",
    "\n",
    "print(rightSideView(n1))\n"
   ]
  },
  {
   "cell_type": "code",
   "execution_count": 15,
   "metadata": {},
   "outputs": [
    {
     "name": "stdout",
     "output_type": "stream",
     "text": [
      "{1: 1, 2: 5, 3: 15}\n",
      "3\n"
     ]
    }
   ],
   "source": [
    "def maxLevelSum( root) -> int:\n",
    "    queue = [root]\n",
    "    tmp = {}\n",
    "    i = 0\n",
    "    while queue:\n",
    "        i += 1\n",
    "        num = sum([ node.val for node in queue  ])\n",
    "        # print(num, i)\n",
    "        tmp[i] = num\n",
    "        ll = []\n",
    "        for node in queue:\n",
    "            if node.right:\n",
    "                ll.append(node.right)\n",
    "            if node.left:\n",
    "                ll.append(node.left)\n",
    "        queue = ll\n",
    "    print(tmp)\n",
    "    return max(tmp, key = tmp.get)\n",
    "\n",
    "print(maxLevelSum(n1))"
   ]
  },
  {
   "cell_type": "code",
   "execution_count": 3,
   "metadata": {},
   "outputs": [
    {
     "name": "stdout",
     "output_type": "stream",
     "text": [
      "5\n",
      "4\n"
     ]
    }
   ],
   "source": [
    "def binary_search(nums: list[int], target: int) -> int:\n",
    "    left, right = 0, len(nums) - 1\n",
    "    while left <= right:\n",
    "        mid = (left + right) // 2\n",
    "        if nums[mid] == target:\n",
    "            return mid\n",
    "        elif nums[mid] < target:\n",
    "            left = mid + 1\n",
    "        else:\n",
    "            right = mid - 1\n",
    "    return -1\n",
    "nums = [1,2,3,4,5,6,7,8,9,10]\n",
    "print(binary_search(nums, 6))\n",
    "\n",
    "def binary_search_lcro(nums: list[int], target: int) -> int:\n",
    "    left, right = 0, len(nums)\n",
    "    while left < right:\n",
    "        mid = (left + right) // 2\n",
    "        if nums[mid] == target:\n",
    "            return mid\n",
    "        elif nums[mid] < target:\n",
    "            left = mid + 1\n",
    "        else:\n",
    "            right = mid\n",
    "    return -1\n",
    "\n",
    "print(binary_search_lcro(nums=nums, target=5))"
   ]
  },
  {
   "cell_type": "code",
   "execution_count": null,
   "metadata": {},
   "outputs": [],
   "source": [
    "class Trie:\n",
    "\n",
    "    def __init__(self):\n",
    "        self.children = [None] * 26\n",
    "        self.flag = False\n",
    "\n",
    "    def insert(self, word: str) -> None:\n",
    "        node = self\n",
    "        for ch in word:\n",
    "            ch = ord(ch) - ord(\"a\")\n",
    "            if not node.children[ch]:\n",
    "                node.children[ch] = Trie()\n",
    "            node = node.children[ch]\n",
    "        node.flag = True\n",
    "    \n",
    "    def searchPrefix(self, prefix: str) -> \"Trie\":\n",
    "        node = self\n",
    "        for ch in prefix:\n",
    "            ch = ord(ch) - ord(\"a\")\n",
    "            if not node.children[ch]:\n",
    "                return None\n",
    "            node = node.children[ch]\n",
    "        return node\n",
    "\n",
    "    def search(self, word: str) -> bool:\n",
    "        node = self.searchPrefix(word)\n",
    "        return node is not None and node.flag\n",
    "\n",
    "    def startsWith(self, prefix: str) -> bool:\n",
    "        return self.searchPrefix(prefix) is not None\n",
    "\n",
    "t = Trie()\n",
    "t.insert(\"abcder\")\n",
    "# t.startsWith(\"ab\")\n",
    "# help(ord)\n",
    "# ord(\"b\")\n"
   ]
  },
  {
   "cell_type": "code",
   "execution_count": 28,
   "metadata": {},
   "outputs": [
    {
     "data": {
      "text/plain": [
       "(0, 1)"
      ]
     },
     "execution_count": 28,
     "metadata": {},
     "output_type": "execute_result"
    }
   ],
   "source": [
    "# 0001 0010 0011 0100 0101 0110 0111 1000\n",
    "# 对于十进制整数 x，我们可以用 x & 1 得到 x 的二进制表示的最低位，它等价于 x % 2：\n",
    "3 & 1, 6 & 1\n",
    "\n",
    "# 对于十进制整数 x，我们可以用 x & (1 << k) 来判断 x 二进制表示的第 k 位（最低位为第 0 位）是否为 1。\n",
    "# 如果该表达式的值大于零，那么第 k 位为 1：\n",
    "6 & (1 << 2), 8 & (1 << 3)\n",
    "\n",
    "# 对于十进制整数 x，我们可以用 (x >> k) & 1 得到 x 二进制表示的第 k 位（最低位为第 0 位）。\n",
    "# 如果 x 二进制表示的位数小于 k，那么该表达式的值为零：\n",
    "\n",
    "(8 >> 1) & 1, (8 >> 3) & 1"
   ]
  },
  {
   "cell_type": "code",
   "execution_count": 29,
   "metadata": {},
   "outputs": [],
   "source": [
    "from collections import deque\n",
    "class Vertex:\n",
    "    def __init__(self) -> None:\n",
    "        pass\n",
    "\n",
    "class GraphAdjMat:\n",
    "    # 顶点列表,元素代表“顶点值”,索引代表“顶点索引”\n",
    "    vertices: list[int] = []\n",
    "    # 邻接矩阵,行列索引对应“顶点索引”\n",
    "    adj_mat: list[list[int]] = []\n",
    "\n",
    "    def __init__(self, vertices: list[int], edges: list[list[int]]) -> None:\n",
    "        pass\n",
    "\n",
    "class GraphAdjList:\n",
    "\n",
    "    # 邻接表,key: 顶点,value:该顶点的所有邻接顶点\n",
    "    def __init__(self, edges: list[list[Vertex]]) -> None:\n",
    "        self.adj_list = dict[Vertex, Vertex]()\n",
    "\n",
    "def graph_bfs(graph: GraphAdjList, start_vet: Vertex) -> list[Vertex]:\n",
    "    res = []\n",
    "\n",
    "    visited = set[Vertex]([start_vet])\n",
    "\n",
    "    que = deque[Vertex]([start_vet])\n",
    "\n",
    "    while len(que) > 0:\n",
    "        vet = que.popleft()\n",
    "        res.append(vet)\n",
    "\n",
    "        for adj_vet in graph.adj_list[vet]:\n",
    "            if adj_vet in visited:\n",
    "                continue\n",
    "            que.append(adj_vet)\n",
    "            visited.add(adj_vet)\n",
    "\n",
    "    return res\n",
    "\n",
    "def dfs(graph: GraphAdjList, visited: set[Vertex], res: list[Vertex], vet: Vertex) -> None:\n",
    "    res.append(vet)\n",
    "    visited.add(vet)\n",
    "\n",
    "    for adjVet in graph.adj_list[vet]:\n",
    "        if adjVet in visited:\n",
    "            continue\n",
    "        dfs(graph, visited, res, adjVet)\n",
    "\n",
    "def graph_dfs(graph: GraphAdjList, start_vet: Vertex) -> list[Vertex]:\n",
    "    res = []\n",
    "\n",
    "    visited = set[Vertex]()\n",
    "\n",
    "    dfs(graph, visited, res, start_vet)\n",
    "\n",
    "    return res\n"
   ]
  }
 ],
 "metadata": {
  "kernelspec": {
   "display_name": "Python 3",
   "language": "python",
   "name": "python3"
  },
  "language_info": {
   "codemirror_mode": {
    "name": "ipython",
    "version": 3
   },
   "file_extension": ".py",
   "mimetype": "text/x-python",
   "name": "python",
   "nbconvert_exporter": "python",
   "pygments_lexer": "ipython3",
   "version": "3.11.4"
  },
  "orig_nbformat": 4
 },
 "nbformat": 4,
 "nbformat_minor": 2
}
