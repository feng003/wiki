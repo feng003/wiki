{
 "cells": [
  {
   "cell_type": "markdown",
   "metadata": {},
   "source": [
    "### 跳格子解法 \n",
    "\n",
    "    1 当遍历到index遇到1时，说明这个位置有花，那必然从index+2的位置才有可能种花，因此当碰到1时直接跳过下一格\n",
    "    2 当遍历到index遇到0时，由于每次碰到1都是跳两格，因此前一格必定是0，此时只需要判断下一格是不是1即可得出index这一格能不能种花，\n",
    "    如果能种则令n减一，然后这个位置就按照遇到1时处理，即跳两格；如果index的后一格是1，说明这个位置不能种花且之后两格也不可能种花（参照 1），直接跳过3格。\n",
    "\n",
    "    当n减为0时，说明可以种入n朵花，则可以直接退出遍历返回true；如果遍历结束n没有减到0，说明最多种入的花的数量小于n，则返回false。"
   ]
  },
  {
   "cell_type": "code",
   "execution_count": 1,
   "metadata": {},
   "outputs": [],
   "source": [
    "class Solution:\n",
    "    def canPlaceFlowers(self, flowerbed: list[int], n: int) -> bool:\n",
    "        i = 0\n",
    "        while i < len(flowerbed) and n > 0:\n",
    "            # 1 0 x ,跳到x处\n",
    "            if flowerbed[i] == 1:\n",
    "                i+=2\n",
    "            # 0 0 x，种一个然后调到x处\n",
    "            elif (i == len(flowerbed) - 1) or (flowerbed[i+1] == 0):\n",
    "                n-=1\n",
    "                i+=2\n",
    "            # 0 1 x或 1 1 x ,这种情况，直接得跳到x后面，x必然不能种\n",
    "            else:\n",
    "                i+=3\n",
    "        return n <= 0\n"
   ]
  },
  {
   "cell_type": "code",
   "execution_count": 17,
   "metadata": {},
   "outputs": [
    {
     "data": {
      "text/plain": [
       "[24, 12, 8, 6]"
      ]
     },
     "execution_count": 17,
     "metadata": {},
     "output_type": "execute_result"
    }
   ],
   "source": [
    "class Solution:\n",
    "    def productExceptSelf(self, nums: list[int]) -> list[int]:\n",
    "        temp = [0]*len(nums)\n",
    "        left, right = 1, 1\n",
    "     \n",
    "        for i in range(0, len(nums)):\n",
    "            temp[i] = left\n",
    "            left *= nums[i]\n",
    "        for i in range(len(nums)-1, -1, -1):\n",
    "            temp[i] *= right\n",
    "            right *= nums[i]\n",
    "        return temp\n",
    "\n",
    "nums = [1,2,3,4]\n",
    "s = Solution().productExceptSelf(nums)\n",
    "s"
   ]
  }
 ],
 "metadata": {
  "kernelspec": {
   "display_name": "Python 3",
   "language": "python",
   "name": "python3"
  },
  "language_info": {
   "codemirror_mode": {
    "name": "ipython",
    "version": 3
   },
   "file_extension": ".py",
   "mimetype": "text/x-python",
   "name": "python",
   "nbconvert_exporter": "python",
   "pygments_lexer": "ipython3",
   "version": "3.11.4"
  },
  "orig_nbformat": 4
 },
 "nbformat": 4,
 "nbformat_minor": 2
}
